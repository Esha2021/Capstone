{
 "cells": [
  {
   "cell_type": "code",
   "execution_count": 3,
   "id": "0b4f3a60",
   "metadata": {},
   "outputs": [],
   "source": [
    "import pandas as pd"
   ]
  },
  {
   "cell_type": "code",
   "execution_count": null,
   "id": "270119e5",
   "metadata": {},
   "outputs": [],
   "source": [
    "\n",
    " \n",
    "excel1=pd.read_csv(r'C:\\Users\\sraje\\Code\\SavvyCoders\\Capstone\\Nutrition__Physical_Activity__and_Obesity_-_Behavioral_Risk_Factor_Surveillance_System.csv')"
   ]
  },
  {
   "cell_type": "code",
   "execution_count": 2,
   "id": "60d4bd73",
   "metadata": {},
   "outputs": [],
   "source": [
    "excel1.to_excel(\"Nutrition__Physical_Activity__and_Obesity_-_Behavioral_Risk_Factor_Surveillance_System.xlsx\",sheet_name=\"Sheet1\")"
   ]
  },
  {
   "cell_type": "code",
   "execution_count": 1,
   "id": "380123b9",
   "metadata": {},
   "outputs": [
    {
     "ename": "NameError",
     "evalue": "name 'pd' is not defined",
     "output_type": "error",
     "traceback": [
      "\u001b[31m---------------------------------------------------------------------------\u001b[39m",
      "\u001b[31mNameError\u001b[39m                                 Traceback (most recent call last)",
      "\u001b[36mCell\u001b[39m\u001b[36m \u001b[39m\u001b[32mIn[1]\u001b[39m\u001b[32m, line 1\u001b[39m\n\u001b[32m----> \u001b[39m\u001b[32m1\u001b[39m Womenobesity=\u001b[43mpd\u001b[49m.read_csv(\u001b[33mr\u001b[39m\u001b[33m'\u001b[39m\u001b[33mC:\u001b[39m\u001b[33m\\\u001b[39m\u001b[33mUsers\u001b[39m\u001b[33m\\\u001b[39m\u001b[33msraje\u001b[39m\u001b[33m\\\u001b[39m\u001b[33mCode\u001b[39m\u001b[33m\\\u001b[39m\u001b[33mSavvyCoders\u001b[39m\u001b[33m\\\u001b[39m\u001b[33mCapstone\u001b[39m\u001b[33m\\\u001b[39m\u001b[33mNutrition__Physical_Activity__and_Obesity_-_Women__Infant__and_Child.csv\u001b[39m\u001b[33m'\u001b[39m)\n",
      "\u001b[31mNameError\u001b[39m: name 'pd' is not defined"
     ]
    }
   ],
   "source": [
    "Womenobesity=pd.read_csv(r'C:\\Users\\sraje\\Code\\SavvyCoders\\Capstone\\Nutrition__Physical_Activity__and_Obesity_-_Women__Infant__and_Child.csv')\n"
   ]
  },
  {
   "cell_type": "code",
   "execution_count": 8,
   "id": "ba8fca09",
   "metadata": {},
   "outputs": [],
   "source": [
    "Womenobesity.to_excel('Women_obesity.xlsx',sheet_name=\"Sheet1\")"
   ]
  },
  {
   "cell_type": "code",
   "execution_count": 4,
   "id": "34998bad",
   "metadata": {},
   "outputs": [],
   "source": [
    "youthobesity=pd.read_csv(r'C:\\Users\\sraje\\Code\\SavvyCoders\\Capstone\\Nutrition__Physical_Activity__and_Obesity_-_Youth_Risk_Behavior_Surveillance_System.csv')"
   ]
  },
  {
   "cell_type": "code",
   "execution_count": 10,
   "id": "81599dee",
   "metadata": {},
   "outputs": [],
   "source": [
    "youthobesity.to_excel('youth_obesity.xlsx',sheet_name=\"Sheet1\")"
   ]
  },
  {
   "cell_type": "code",
   "execution_count": 11,
   "id": "cb7f9d76",
   "metadata": {},
   "outputs": [],
   "source": [
    "adolescentobesity=pd.read_csv(r'C:\\Users\\sraje\\Code\\SavvyCoders\\Capstone\\Obesity_among_children_and_adolescents_aged_2_19_years__by_selected_characteristics__United_States.csv')"
   ]
  },
  {
   "cell_type": "code",
   "execution_count": 12,
   "id": "9b5151cb",
   "metadata": {},
   "outputs": [],
   "source": [
    "adolescentobesity.to_excel('adolescent_obesity.xlsx',sheet_name=\"Sheet1\")"
   ]
  },
  {
   "cell_type": "code",
   "execution_count": 2,
   "id": "fd12ae6e",
   "metadata": {},
   "outputs": [],
   "source": [
    "womensobesity_cleaned=pd.read_csv(r'C:\\Users\\sraje\\Code\\SavvyCoders\\Capstone\\Women_obesity(Sheet1).csv')\n",
    "behaviralobesity_cleaned=pd.read_csv(r'C:\\Users\\sraje\\Code\\SavvyCoders\\Capstone\\behavioral(Sheet1).csv')\n"
   ]
  },
  {
   "cell_type": "code",
   "execution_count": 3,
   "id": "b3cbe082",
   "metadata": {},
   "outputs": [],
   "source": [
    "combinedwomen_behavior=pd.concat([behaviralobesity_cleaned,womensobesity_cleaned],ignore_index=True)"
   ]
  },
  {
   "cell_type": "code",
   "execution_count": 4,
   "id": "30478e2e",
   "metadata": {},
   "outputs": [
    {
     "data": {
      "text/plain": [
       "(117124, 20)"
      ]
     },
     "execution_count": 4,
     "metadata": {},
     "output_type": "execute_result"
    }
   ],
   "source": [
    "combinedwomen_behavior.shape"
   ]
  },
  {
   "cell_type": "code",
   "execution_count": 11,
   "id": "b0c75280",
   "metadata": {},
   "outputs": [
    {
     "name": "stdout",
     "output_type": "stream",
     "text": [
      "Empty DataFrame\n",
      "Columns: [YearStart, LocationAbbr, LocationDesc, Class, Topic, Question, Data_Value, Low_Confidence_Limit, Unnamed: 8, High_Confidence_Limit , age(years), Education, Sex, Income, Race/Ethnicity, ClassID, TopicID, Unnamed: 0, Data_Value_Alt, Age(months)]\n",
      "Index: []\n"
     ]
    }
   ],
   "source": [
    "duplicates=combinedwomen_behavior[combinedwomen_behavior.duplicated()]\n",
    "print(duplicates)"
   ]
  },
  {
   "cell_type": "code",
   "execution_count": 12,
   "id": "2bb96511",
   "metadata": {},
   "outputs": [
    {
     "name": "stdout",
     "output_type": "stream",
     "text": [
      "<class 'pandas.core.frame.DataFrame'>\n",
      "RangeIndex: 117124 entries, 0 to 117123\n",
      "Data columns (total 20 columns):\n",
      " #   Column                  Non-Null Count   Dtype  \n",
      "---  ------                  --------------   -----  \n",
      " 0   YearStart               117124 non-null  int64  \n",
      " 1   LocationAbbr            117124 non-null  object \n",
      " 2   LocationDesc            117124 non-null  object \n",
      " 3   Class                   117124 non-null  object \n",
      " 4   Topic                   117124 non-null  object \n",
      " 5   Question                117124 non-null  object \n",
      " 6   Data_Value              105978 non-null  float64\n",
      " 7   Low_Confidence_Limit    93505 non-null   float64\n",
      " 8   Unnamed: 8              0 non-null       float64\n",
      " 9   High_Confidence_Limit   93505 non-null   float64\n",
      " 10  age(years)              22344 non-null   object \n",
      " 11  Education               14896 non-null   object \n",
      " 12  Sex                     9716 non-null    object \n",
      " 13  Income                  26068 non-null   object \n",
      " 14  Race/Ethnicity          35462 non-null   object \n",
      " 15  ClassID                 104272 non-null  object \n",
      " 16  TopicID                 104272 non-null  object \n",
      " 17  Unnamed: 0              12852 non-null   float64\n",
      " 18  Data_Value_Alt          12473 non-null   float64\n",
      " 19  Age(months)             3780 non-null    object \n",
      "dtypes: float64(6), int64(1), object(13)\n",
      "memory usage: 17.9+ MB\n"
     ]
    }
   ],
   "source": [
    "combinedwomen_behavior.info()"
   ]
  },
  {
   "cell_type": "code",
   "execution_count": 16,
   "id": "62aae130",
   "metadata": {},
   "outputs": [
    {
     "name": "stdout",
     "output_type": "stream",
     "text": [
      "['YearStart', 'LocationAbbr', 'LocationDesc', 'Class', 'Topic', 'Question', 'Data_Value', 'Low_Confidence_Limit', 'Unnamed: 8', 'High_Confidence_Limit ', 'age(years)', 'Education', 'Sex', 'Income', 'Race/Ethnicity', 'ClassID', 'TopicID', 'Unnamed: 0', 'Data_Value_Alt', 'Age(months)']\n"
     ]
    }
   ],
   "source": [
    "print(combinedwomen_behavior.columns.tolist())\n"
   ]
  },
  {
   "cell_type": "code",
   "execution_count": 17,
   "id": "06241060",
   "metadata": {},
   "outputs": [],
   "source": [
    "data_combined = combinedwomen_behavior.drop(\n",
    "    columns=[\n",
    "        'Unnamed: 8',\n",
    "        'Low_Confidence_Limit',\n",
    "        'High_Confidence_Limit ',\n",
    "        'ClassID',\n",
    "        'TopicID',\n",
    "        'Unnamed: 0',\n",
    "        'Data_Value_Alt'\n",
    "    ]\n",
    ")"
   ]
  },
  {
   "cell_type": "code",
   "execution_count": 19,
   "id": "fa14c74b",
   "metadata": {},
   "outputs": [
    {
     "data": {
      "text/plain": [
       "(117124, 13)"
      ]
     },
     "execution_count": 19,
     "metadata": {},
     "output_type": "execute_result"
    }
   ],
   "source": [
    "data_combined.shape"
   ]
  },
  {
   "cell_type": "code",
   "execution_count": 20,
   "id": "ef1d7dac",
   "metadata": {},
   "outputs": [
    {
     "name": "stdout",
     "output_type": "stream",
     "text": [
      "<class 'pandas.core.frame.DataFrame'>\n",
      "RangeIndex: 117124 entries, 0 to 117123\n",
      "Data columns (total 13 columns):\n",
      " #   Column          Non-Null Count   Dtype  \n",
      "---  ------          --------------   -----  \n",
      " 0   YearStart       117124 non-null  int64  \n",
      " 1   LocationAbbr    117124 non-null  object \n",
      " 2   LocationDesc    117124 non-null  object \n",
      " 3   Class           117124 non-null  object \n",
      " 4   Topic           117124 non-null  object \n",
      " 5   Question        117124 non-null  object \n",
      " 6   Data_Value      105978 non-null  float64\n",
      " 7   age(years)      22344 non-null   object \n",
      " 8   Education       14896 non-null   object \n",
      " 9   Sex             9716 non-null    object \n",
      " 10  Income          26068 non-null   object \n",
      " 11  Race/Ethnicity  35462 non-null   object \n",
      " 12  Age(months)     3780 non-null    object \n",
      "dtypes: float64(1), int64(1), object(11)\n",
      "memory usage: 11.6+ MB\n"
     ]
    }
   ],
   "source": [
    "data_combined.info()"
   ]
  },
  {
   "cell_type": "code",
   "execution_count": 5,
   "id": "b0221cea",
   "metadata": {},
   "outputs": [
    {
     "name": "stdout",
     "output_type": "stream",
     "text": [
      "<class 'pandas.core.frame.DataFrame'>\n",
      "RangeIndex: 50092 entries, 0 to 50091\n",
      "Data columns (total 31 columns):\n",
      " #   Column                      Non-Null Count  Dtype  \n",
      "---  ------                      --------------  -----  \n",
      " 0   YearStart                   50092 non-null  int64  \n",
      " 1   YearEnd                     50092 non-null  int64  \n",
      " 2   LocationAbbr                50092 non-null  object \n",
      " 3   LocationDesc                50092 non-null  object \n",
      " 4   Datasource                  50092 non-null  object \n",
      " 5   Class                       50092 non-null  object \n",
      " 6   Topic                       50092 non-null  object \n",
      " 7   Question                    50092 non-null  object \n",
      " 8   Data_Value_Unit             0 non-null      float64\n",
      " 9   Data_Value_Type             50092 non-null  object \n",
      " 10  Data_Value                  35385 non-null  float64\n",
      " 11  Data_Value_Alt              35385 non-null  float64\n",
      " 12  Data_Value_Footnote_Symbol  14707 non-null  object \n",
      " 13  Data_Value_Footnote         14707 non-null  object \n",
      " 14  Low_Confidence_Limit        35385 non-null  float64\n",
      " 15  High_Confidence_Limit       35385 non-null  float64\n",
      " 16  Sample_Size                 35798 non-null  float64\n",
      " 17  Total                       3578 non-null   object \n",
      " 18  Sex                         7156 non-null   object \n",
      " 19  Grade                       14312 non-null  object \n",
      " 20  Race/Ethnicity              25046 non-null  object \n",
      " 21  GeoLocation                 48888 non-null  object \n",
      " 22  ClassID                     50092 non-null  object \n",
      " 23  TopicID                     50092 non-null  object \n",
      " 24  QuestionID                  50092 non-null  object \n",
      " 25  DataValueTypeID             50092 non-null  object \n",
      " 26  LocationID                  50092 non-null  int64  \n",
      " 27  StratificationCategory1     50092 non-null  object \n",
      " 28  Stratification1             50092 non-null  object \n",
      " 29  StratificationCategoryId1   50092 non-null  object \n",
      " 30  StratificationID1           50092 non-null  object \n",
      "dtypes: float64(6), int64(3), object(22)\n",
      "memory usage: 11.8+ MB\n"
     ]
    }
   ],
   "source": [
    "youthobesity.info()"
   ]
  },
  {
   "cell_type": "code",
   "execution_count": 6,
   "id": "69115afe",
   "metadata": {},
   "outputs": [
    {
     "data": {
      "text/html": [
       "<div>\n",
       "<style scoped>\n",
       "    .dataframe tbody tr th:only-of-type {\n",
       "        vertical-align: middle;\n",
       "    }\n",
       "\n",
       "    .dataframe tbody tr th {\n",
       "        vertical-align: top;\n",
       "    }\n",
       "\n",
       "    .dataframe thead th {\n",
       "        text-align: right;\n",
       "    }\n",
       "</style>\n",
       "<table border=\"1\" class=\"dataframe\">\n",
       "  <thead>\n",
       "    <tr style=\"text-align: right;\">\n",
       "      <th></th>\n",
       "      <th>YearStart</th>\n",
       "      <th>YearEnd</th>\n",
       "      <th>LocationAbbr</th>\n",
       "      <th>LocationDesc</th>\n",
       "      <th>Datasource</th>\n",
       "      <th>Class</th>\n",
       "      <th>Topic</th>\n",
       "      <th>Question</th>\n",
       "      <th>Data_Value_Unit</th>\n",
       "      <th>Data_Value_Type</th>\n",
       "      <th>...</th>\n",
       "      <th>GeoLocation</th>\n",
       "      <th>ClassID</th>\n",
       "      <th>TopicID</th>\n",
       "      <th>QuestionID</th>\n",
       "      <th>DataValueTypeID</th>\n",
       "      <th>LocationID</th>\n",
       "      <th>StratificationCategory1</th>\n",
       "      <th>Stratification1</th>\n",
       "      <th>StratificationCategoryId1</th>\n",
       "      <th>StratificationID1</th>\n",
       "    </tr>\n",
       "  </thead>\n",
       "  <tbody>\n",
       "    <tr>\n",
       "      <th>0</th>\n",
       "      <td>2023</td>\n",
       "      <td>2023</td>\n",
       "      <td>AL</td>\n",
       "      <td>Alabama</td>\n",
       "      <td>Youth Risk Behavior Surveillance System</td>\n",
       "      <td>Physical Activity</td>\n",
       "      <td>Physical Activity - Behavior</td>\n",
       "      <td>Percent of students in grades 9-12 who achieve...</td>\n",
       "      <td>NaN</td>\n",
       "      <td>Value</td>\n",
       "      <td>...</td>\n",
       "      <td>(32.840571122, -86.631860762)</td>\n",
       "      <td>PA</td>\n",
       "      <td>PA1</td>\n",
       "      <td>Q048</td>\n",
       "      <td>VALUE</td>\n",
       "      <td>1</td>\n",
       "      <td>Grade</td>\n",
       "      <td>9th</td>\n",
       "      <td>GRADE</td>\n",
       "      <td>GRADE09</td>\n",
       "    </tr>\n",
       "    <tr>\n",
       "      <th>1</th>\n",
       "      <td>2023</td>\n",
       "      <td>2023</td>\n",
       "      <td>AL</td>\n",
       "      <td>Alabama</td>\n",
       "      <td>Youth Risk Behavior Surveillance System</td>\n",
       "      <td>Physical Activity</td>\n",
       "      <td>Physical Activity - Behavior</td>\n",
       "      <td>Percent of students in grades 9-12 who achieve...</td>\n",
       "      <td>NaN</td>\n",
       "      <td>Value</td>\n",
       "      <td>...</td>\n",
       "      <td>(32.840571122, -86.631860762)</td>\n",
       "      <td>PA</td>\n",
       "      <td>PA1</td>\n",
       "      <td>Q048</td>\n",
       "      <td>VALUE</td>\n",
       "      <td>1</td>\n",
       "      <td>Grade</td>\n",
       "      <td>10th</td>\n",
       "      <td>GRADE</td>\n",
       "      <td>GRADE10</td>\n",
       "    </tr>\n",
       "    <tr>\n",
       "      <th>2</th>\n",
       "      <td>2023</td>\n",
       "      <td>2023</td>\n",
       "      <td>AL</td>\n",
       "      <td>Alabama</td>\n",
       "      <td>Youth Risk Behavior Surveillance System</td>\n",
       "      <td>Physical Activity</td>\n",
       "      <td>Physical Activity - Behavior</td>\n",
       "      <td>Percent of students in grades 9-12 who achieve...</td>\n",
       "      <td>NaN</td>\n",
       "      <td>Value</td>\n",
       "      <td>...</td>\n",
       "      <td>(32.840571122, -86.631860762)</td>\n",
       "      <td>PA</td>\n",
       "      <td>PA1</td>\n",
       "      <td>Q048</td>\n",
       "      <td>VALUE</td>\n",
       "      <td>1</td>\n",
       "      <td>Grade</td>\n",
       "      <td>11th</td>\n",
       "      <td>GRADE</td>\n",
       "      <td>GRADE11</td>\n",
       "    </tr>\n",
       "    <tr>\n",
       "      <th>3</th>\n",
       "      <td>2023</td>\n",
       "      <td>2023</td>\n",
       "      <td>AL</td>\n",
       "      <td>Alabama</td>\n",
       "      <td>Youth Risk Behavior Surveillance System</td>\n",
       "      <td>Physical Activity</td>\n",
       "      <td>Physical Activity - Behavior</td>\n",
       "      <td>Percent of students in grades 9-12 who achieve...</td>\n",
       "      <td>NaN</td>\n",
       "      <td>Value</td>\n",
       "      <td>...</td>\n",
       "      <td>(32.840571122, -86.631860762)</td>\n",
       "      <td>PA</td>\n",
       "      <td>PA1</td>\n",
       "      <td>Q048</td>\n",
       "      <td>VALUE</td>\n",
       "      <td>1</td>\n",
       "      <td>Grade</td>\n",
       "      <td>12th</td>\n",
       "      <td>GRADE</td>\n",
       "      <td>GRADE12</td>\n",
       "    </tr>\n",
       "    <tr>\n",
       "      <th>4</th>\n",
       "      <td>2023</td>\n",
       "      <td>2023</td>\n",
       "      <td>AL</td>\n",
       "      <td>Alabama</td>\n",
       "      <td>Youth Risk Behavior Surveillance System</td>\n",
       "      <td>Physical Activity</td>\n",
       "      <td>Physical Activity - Behavior</td>\n",
       "      <td>Percent of students in grades 9-12 who achieve...</td>\n",
       "      <td>NaN</td>\n",
       "      <td>Value</td>\n",
       "      <td>...</td>\n",
       "      <td>(32.840571122, -86.631860762)</td>\n",
       "      <td>PA</td>\n",
       "      <td>PA1</td>\n",
       "      <td>Q048</td>\n",
       "      <td>VALUE</td>\n",
       "      <td>1</td>\n",
       "      <td>Race/Ethnicity</td>\n",
       "      <td>2 or more races</td>\n",
       "      <td>RACE</td>\n",
       "      <td>RACE2PLUS</td>\n",
       "    </tr>\n",
       "  </tbody>\n",
       "</table>\n",
       "<p>5 rows × 31 columns</p>\n",
       "</div>"
      ],
      "text/plain": [
       "   YearStart  YearEnd LocationAbbr LocationDesc  \\\n",
       "0       2023     2023           AL      Alabama   \n",
       "1       2023     2023           AL      Alabama   \n",
       "2       2023     2023           AL      Alabama   \n",
       "3       2023     2023           AL      Alabama   \n",
       "4       2023     2023           AL      Alabama   \n",
       "\n",
       "                                Datasource              Class  \\\n",
       "0  Youth Risk Behavior Surveillance System  Physical Activity   \n",
       "1  Youth Risk Behavior Surveillance System  Physical Activity   \n",
       "2  Youth Risk Behavior Surveillance System  Physical Activity   \n",
       "3  Youth Risk Behavior Surveillance System  Physical Activity   \n",
       "4  Youth Risk Behavior Surveillance System  Physical Activity   \n",
       "\n",
       "                          Topic  \\\n",
       "0  Physical Activity - Behavior   \n",
       "1  Physical Activity - Behavior   \n",
       "2  Physical Activity - Behavior   \n",
       "3  Physical Activity - Behavior   \n",
       "4  Physical Activity - Behavior   \n",
       "\n",
       "                                            Question  Data_Value_Unit  \\\n",
       "0  Percent of students in grades 9-12 who achieve...              NaN   \n",
       "1  Percent of students in grades 9-12 who achieve...              NaN   \n",
       "2  Percent of students in grades 9-12 who achieve...              NaN   \n",
       "3  Percent of students in grades 9-12 who achieve...              NaN   \n",
       "4  Percent of students in grades 9-12 who achieve...              NaN   \n",
       "\n",
       "  Data_Value_Type  ...                    GeoLocation  ClassID TopicID  \\\n",
       "0           Value  ...  (32.840571122, -86.631860762)       PA     PA1   \n",
       "1           Value  ...  (32.840571122, -86.631860762)       PA     PA1   \n",
       "2           Value  ...  (32.840571122, -86.631860762)       PA     PA1   \n",
       "3           Value  ...  (32.840571122, -86.631860762)       PA     PA1   \n",
       "4           Value  ...  (32.840571122, -86.631860762)       PA     PA1   \n",
       "\n",
       "  QuestionID  DataValueTypeID  LocationID  StratificationCategory1  \\\n",
       "0       Q048            VALUE           1                    Grade   \n",
       "1       Q048            VALUE           1                    Grade   \n",
       "2       Q048            VALUE           1                    Grade   \n",
       "3       Q048            VALUE           1                    Grade   \n",
       "4       Q048            VALUE           1           Race/Ethnicity   \n",
       "\n",
       "   Stratification1 StratificationCategoryId1 StratificationID1  \n",
       "0              9th                     GRADE           GRADE09  \n",
       "1             10th                     GRADE           GRADE10  \n",
       "2             11th                     GRADE           GRADE11  \n",
       "3             12th                     GRADE           GRADE12  \n",
       "4  2 or more races                      RACE         RACE2PLUS  \n",
       "\n",
       "[5 rows x 31 columns]"
      ]
     },
     "execution_count": 6,
     "metadata": {},
     "output_type": "execute_result"
    }
   ],
   "source": [
    "youthobesity.head(5)"
   ]
  },
  {
   "cell_type": "code",
   "execution_count": 7,
   "id": "6919bd68",
   "metadata": {},
   "outputs": [
    {
     "name": "stdout",
     "output_type": "stream",
     "text": [
      "<bound method IndexOpsMixin.tolist of Index(['YearStart', 'YearEnd', 'LocationAbbr', 'LocationDesc', 'Datasource',\n",
      "       'Class', 'Topic', 'Question', 'Data_Value_Unit', 'Data_Value_Type',\n",
      "       'Data_Value', 'Data_Value_Alt', 'Data_Value_Footnote_Symbol',\n",
      "       'Data_Value_Footnote', 'Low_Confidence_Limit', 'High_Confidence_Limit ',\n",
      "       'Sample_Size', 'Total', 'Sex', 'Grade', 'Race/Ethnicity', 'GeoLocation',\n",
      "       'ClassID', 'TopicID', 'QuestionID', 'DataValueTypeID', 'LocationID',\n",
      "       'StratificationCategory1', 'Stratification1',\n",
      "       'StratificationCategoryId1', 'StratificationID1'],\n",
      "      dtype='object')>\n"
     ]
    }
   ],
   "source": [
    "print (youthobesity.columns.to_list)"
   ]
  },
  {
   "cell_type": "code",
   "execution_count": 9,
   "id": "344099f4",
   "metadata": {},
   "outputs": [],
   "source": [
    "youthobesity_cleaned = youthobesity.drop(columns=[ 'YearEnd',  'Datasource',\n",
    "        'Data_Value_Type',\n",
    "       'Data_Value', 'Data_Value_Alt', 'Data_Value_Footnote_Symbol',\n",
    "       'Data_Value_Footnote', 'Low_Confidence_Limit', 'High_Confidence_Limit ',\n",
    "       'Sample_Size', 'Total',  'GeoLocation',\n",
    "       'ClassID', 'TopicID', 'QuestionID', 'DataValueTypeID', 'LocationID',\n",
    "       'StratificationCategory1', 'Stratification1',\n",
    "       'StratificationCategoryId1', 'StratificationID1']\n",
    "      )"
   ]
  },
  {
   "cell_type": "code",
   "execution_count": 10,
   "id": "6552888c",
   "metadata": {},
   "outputs": [
    {
     "name": "stdout",
     "output_type": "stream",
     "text": [
      "<bound method IndexOpsMixin.tolist of Index(['YearStart', 'LocationAbbr', 'LocationDesc', 'Class', 'Topic',\n",
      "       'Question', 'Data_Value_Unit', 'Sex', 'Grade', 'Race/Ethnicity'],\n",
      "      dtype='object')>\n"
     ]
    }
   ],
   "source": [
    "print(youthobesity_cleaned.columns.to_list)"
   ]
  },
  {
   "cell_type": "code",
   "execution_count": null,
   "id": "b2353cb2",
   "metadata": {},
   "outputs": [],
   "source": [
    " YearStart       117124 non-null  int64  \n",
    " 1   LocationAbbr    117124 non-null  object \n",
    " 2   LocationDesc    117124 non-null  object \n",
    " 3   Class           117124 non-null  object \n",
    " 4   Topic           117124 non-null  object \n",
    " 5   Question        117124 non-null  object \n",
    " 6   Data_Value      105978 non-null  float64\n",
    " 7   age(years)      22344 non-null   object \n",
    " 8   Education       14896 non-null   object \n",
    " 9   Sex             9716 non-null    object \n",
    " 10  Income          26068 non-null   object \n",
    " 11  Race/Ethnicity  35462 non-null   object \n",
    " 12  Age(months)     3780 non-null    object"
   ]
  }
 ],
 "metadata": {
  "kernelspec": {
   "display_name": "Python 3",
   "language": "python",
   "name": "python3"
  },
  "language_info": {
   "codemirror_mode": {
    "name": "ipython",
    "version": 3
   },
   "file_extension": ".py",
   "mimetype": "text/x-python",
   "name": "python",
   "nbconvert_exporter": "python",
   "pygments_lexer": "ipython3",
   "version": "3.12.7"
  }
 },
 "nbformat": 4,
 "nbformat_minor": 5
}
