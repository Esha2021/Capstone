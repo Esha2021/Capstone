{
 "cells": [
  {
   "cell_type": "code",
   "execution_count": 1,
   "id": "12422e8a",
   "metadata": {},
   "outputs": [],
   "source": [
    "import pandas as pd\n",
    "import sqlite3\n",
    "import seaborn as sns\n",
    "import  matplotlib.pyplot as plt\n",
    "import numpy as np\n"
   ]
  },
  {
   "cell_type": "code",
   "execution_count": 2,
   "id": "240a4c41",
   "metadata": {},
   "outputs": [],
   "source": [
    "df1=pd.read_csv(r'C:\\Users\\sraje\\Code\\SavvyCoders\\Capstone\\Nutrition__Physical_Activity__and_Obesity_-_Behavioral_Risk_Factor_Surveillance_System.csv')"
   ]
  },
  {
   "cell_type": "code",
   "execution_count": 3,
   "id": "88dc7930",
   "metadata": {},
   "outputs": [
    {
     "name": "stdout",
     "output_type": "stream",
     "text": [
      "<class 'pandas.core.frame.DataFrame'>\n",
      "RangeIndex: 104272 entries, 0 to 104271\n",
      "Data columns (total 33 columns):\n",
      " #   Column                      Non-Null Count   Dtype  \n",
      "---  ------                      --------------   -----  \n",
      " 0   YearStart                   104272 non-null  int64  \n",
      " 1   YearEnd                     104272 non-null  int64  \n",
      " 2   LocationAbbr                104272 non-null  object \n",
      " 3   LocationDesc                104272 non-null  object \n",
      " 4   Datasource                  104272 non-null  object \n",
      " 5   Class                       104272 non-null  object \n",
      " 6   Topic                       104272 non-null  object \n",
      " 7   Question                    104272 non-null  object \n",
      " 8   Data_Value_Unit             88872 non-null   float64\n",
      " 9   Data_Value_Type             104272 non-null  object \n",
      " 10  Data_Value                  93505 non-null   float64\n",
      " 11  Data_Value_Alt              93505 non-null   float64\n",
      " 12  Data_Value_Footnote_Symbol  10767 non-null   object \n",
      " 13  Data_Value_Footnote         10767 non-null   object \n",
      " 14  Low_Confidence_Limit        93505 non-null   float64\n",
      " 15  High_Confidence_Limit       93505 non-null   float64\n",
      " 16  Sample_Size                 93505 non-null   float64\n",
      " 17  Total                       3724 non-null    object \n",
      " 18  Age(years)                  22344 non-null   object \n",
      " 19  Education                   14896 non-null   object \n",
      " 20  Sex                         7448 non-null    object \n",
      " 21  Income                      26068 non-null   object \n",
      " 22  Race/Ethnicity              29792 non-null   object \n",
      " 23  GeoLocation                 102340 non-null  object \n",
      " 24  ClassID                     104272 non-null  object \n",
      " 25  TopicID                     104272 non-null  object \n",
      " 26  QuestionID                  104272 non-null  object \n",
      " 27  DataValueTypeID             104272 non-null  object \n",
      " 28  LocationID                  104272 non-null  int64  \n",
      " 29  StratificationCategory1     104272 non-null  object \n",
      " 30  Stratification1             104272 non-null  object \n",
      " 31  StratificationCategoryId1   104272 non-null  object \n",
      " 32  StratificationID1           104272 non-null  object \n",
      "dtypes: float64(6), int64(3), object(24)\n",
      "memory usage: 26.3+ MB\n"
     ]
    }
   ],
   "source": [
    "df1.info()"
   ]
  },
  {
   "cell_type": "code",
   "execution_count": 4,
   "id": "6bbc9404",
   "metadata": {},
   "outputs": [],
   "source": [
    "df2=pd.read_csv(r'C:\\Users\\sraje\\Code\\SavvyCoders\\Capstone\\Nutrition__Physical_Activity__and_Obesity_-_Women__Infant__and_Child.csv')"
   ]
  },
  {
   "cell_type": "code",
   "execution_count": 5,
   "id": "6088e5b5",
   "metadata": {},
   "outputs": [
    {
     "name": "stdout",
     "output_type": "stream",
     "text": [
      "<class 'pandas.core.frame.DataFrame'>\n",
      "RangeIndex: 12852 entries, 0 to 12851\n",
      "Data columns (total 31 columns):\n",
      " #   Column                      Non-Null Count  Dtype  \n",
      "---  ------                      --------------  -----  \n",
      " 0   YearStart                   12852 non-null  int64  \n",
      " 1   YearEnd                     12852 non-null  int64  \n",
      " 2   LocationAbbr                12852 non-null  object \n",
      " 3   LocationDesc                12852 non-null  object \n",
      " 4   Datasource                  12852 non-null  object \n",
      " 5   Class                       12852 non-null  object \n",
      " 6   Topic                       12852 non-null  object \n",
      " 7   Question                    12852 non-null  object \n",
      " 8   Data_Value_Unit             0 non-null      float64\n",
      " 9   Data_Value_Type             12852 non-null  object \n",
      " 10  Data_Value                  12473 non-null  float64\n",
      " 11  Data_Value_Alt              12473 non-null  float64\n",
      " 12  Data_Value_Footnote_Symbol  379 non-null    object \n",
      " 13  Data_Value_Footnote         379 non-null    object \n",
      " 14  Low_Confidence_Limit        12473 non-null  float64\n",
      " 15  High_Confidence_Limit       12473 non-null  float64\n",
      " 16  Sample_Size                 12473 non-null  float64\n",
      " 17  Total                       1134 non-null   object \n",
      " 18  Age(months)                 3780 non-null   object \n",
      " 19  Sex                         2268 non-null   object \n",
      " 20  Race/Ethnicity              5670 non-null   object \n",
      " 21  GeoLocation                 12852 non-null  object \n",
      " 22  ClassID                     12852 non-null  object \n",
      " 23  TopicID                     12852 non-null  object \n",
      " 24  QuestionID                  12852 non-null  object \n",
      " 25  DataValueTypeID             12852 non-null  object \n",
      " 26  LocationID                  12852 non-null  int64  \n",
      " 27  StratificationCategory1     12852 non-null  object \n",
      " 28  Stratification1             12852 non-null  object \n",
      " 29  StratificationCategoryId1   12852 non-null  object \n",
      " 30  StratificationID1           12852 non-null  object \n",
      "dtypes: float64(6), int64(3), object(22)\n",
      "memory usage: 3.0+ MB\n"
     ]
    }
   ],
   "source": [
    "df2.info()"
   ]
  },
  {
   "cell_type": "code",
   "execution_count": 6,
   "id": "bb480e46",
   "metadata": {},
   "outputs": [],
   "source": [
    "df3=pd.read_csv(r'C:\\Users\\sraje\\Code\\SavvyCoders\\Capstone\\Nutrition__Physical_Activity__and_Obesity_-_Youth_Risk_Behavior_Surveillance_System.csv')"
   ]
  },
  {
   "cell_type": "code",
   "execution_count": 7,
   "id": "75b8625c",
   "metadata": {},
   "outputs": [
    {
     "name": "stdout",
     "output_type": "stream",
     "text": [
      "<class 'pandas.core.frame.DataFrame'>\n",
      "RangeIndex: 50092 entries, 0 to 50091\n",
      "Data columns (total 31 columns):\n",
      " #   Column                      Non-Null Count  Dtype  \n",
      "---  ------                      --------------  -----  \n",
      " 0   YearStart                   50092 non-null  int64  \n",
      " 1   YearEnd                     50092 non-null  int64  \n",
      " 2   LocationAbbr                50092 non-null  object \n",
      " 3   LocationDesc                50092 non-null  object \n",
      " 4   Datasource                  50092 non-null  object \n",
      " 5   Class                       50092 non-null  object \n",
      " 6   Topic                       50092 non-null  object \n",
      " 7   Question                    50092 non-null  object \n",
      " 8   Data_Value_Unit             0 non-null      float64\n",
      " 9   Data_Value_Type             50092 non-null  object \n",
      " 10  Data_Value                  35385 non-null  float64\n",
      " 11  Data_Value_Alt              35385 non-null  float64\n",
      " 12  Data_Value_Footnote_Symbol  14707 non-null  object \n",
      " 13  Data_Value_Footnote         14707 non-null  object \n",
      " 14  Low_Confidence_Limit        35385 non-null  float64\n",
      " 15  High_Confidence_Limit       35385 non-null  float64\n",
      " 16  Sample_Size                 35798 non-null  float64\n",
      " 17  Total                       3578 non-null   object \n",
      " 18  Sex                         7156 non-null   object \n",
      " 19  Grade                       14312 non-null  object \n",
      " 20  Race/Ethnicity              25046 non-null  object \n",
      " 21  GeoLocation                 48888 non-null  object \n",
      " 22  ClassID                     50092 non-null  object \n",
      " 23  TopicID                     50092 non-null  object \n",
      " 24  QuestionID                  50092 non-null  object \n",
      " 25  DataValueTypeID             50092 non-null  object \n",
      " 26  LocationID                  50092 non-null  int64  \n",
      " 27  StratificationCategory1     50092 non-null  object \n",
      " 28  Stratification1             50092 non-null  object \n",
      " 29  StratificationCategoryId1   50092 non-null  object \n",
      " 30  StratificationID1           50092 non-null  object \n",
      "dtypes: float64(6), int64(3), object(22)\n",
      "memory usage: 11.8+ MB\n"
     ]
    }
   ],
   "source": [
    "df3.info()"
   ]
  },
  {
   "cell_type": "code",
   "execution_count": 8,
   "id": "8dbbb368",
   "metadata": {},
   "outputs": [],
   "source": [
    "combined_dataframe=pd.concat([df1,df2,df3],ignore_index=True)"
   ]
  },
  {
   "cell_type": "code",
   "execution_count": 9,
   "id": "1cb1b350",
   "metadata": {},
   "outputs": [
    {
     "data": {
      "text/html": [
       "<div>\n",
       "<style scoped>\n",
       "    .dataframe tbody tr th:only-of-type {\n",
       "        vertical-align: middle;\n",
       "    }\n",
       "\n",
       "    .dataframe tbody tr th {\n",
       "        vertical-align: top;\n",
       "    }\n",
       "\n",
       "    .dataframe thead th {\n",
       "        text-align: right;\n",
       "    }\n",
       "</style>\n",
       "<table border=\"1\" class=\"dataframe\">\n",
       "  <thead>\n",
       "    <tr style=\"text-align: right;\">\n",
       "      <th></th>\n",
       "      <th>YearStart</th>\n",
       "      <th>YearEnd</th>\n",
       "      <th>LocationAbbr</th>\n",
       "      <th>LocationDesc</th>\n",
       "      <th>Datasource</th>\n",
       "      <th>Class</th>\n",
       "      <th>Topic</th>\n",
       "      <th>Question</th>\n",
       "      <th>Data_Value_Unit</th>\n",
       "      <th>Data_Value_Type</th>\n",
       "      <th>...</th>\n",
       "      <th>TopicID</th>\n",
       "      <th>QuestionID</th>\n",
       "      <th>DataValueTypeID</th>\n",
       "      <th>LocationID</th>\n",
       "      <th>StratificationCategory1</th>\n",
       "      <th>Stratification1</th>\n",
       "      <th>StratificationCategoryId1</th>\n",
       "      <th>StratificationID1</th>\n",
       "      <th>Age(months)</th>\n",
       "      <th>Grade</th>\n",
       "    </tr>\n",
       "  </thead>\n",
       "  <tbody>\n",
       "  </tbody>\n",
       "</table>\n",
       "<p>0 rows × 35 columns</p>\n",
       "</div>"
      ],
      "text/plain": [
       "Empty DataFrame\n",
       "Columns: [YearStart, YearEnd, LocationAbbr, LocationDesc, Datasource, Class, Topic, Question, Data_Value_Unit, Data_Value_Type, Data_Value, Data_Value_Alt, Data_Value_Footnote_Symbol, Data_Value_Footnote, Low_Confidence_Limit, High_Confidence_Limit , Sample_Size, Total, Age(years), Education, Sex, Income, Race/Ethnicity, GeoLocation, ClassID, TopicID, QuestionID, DataValueTypeID, LocationID, StratificationCategory1, Stratification1, StratificationCategoryId1, StratificationID1, Age(months), Grade]\n",
       "Index: []\n",
       "\n",
       "[0 rows x 35 columns]"
      ]
     },
     "execution_count": 9,
     "metadata": {},
     "output_type": "execute_result"
    }
   ],
   "source": [
    "combined_dataframe[combined_dataframe.duplicated()]"
   ]
  },
  {
   "cell_type": "code",
   "execution_count": 10,
   "id": "642f16b6",
   "metadata": {},
   "outputs": [
    {
     "name": "stdout",
     "output_type": "stream",
     "text": [
      "<class 'pandas.core.frame.DataFrame'>\n",
      "RangeIndex: 167216 entries, 0 to 167215\n",
      "Data columns (total 35 columns):\n",
      " #   Column                      Non-Null Count   Dtype  \n",
      "---  ------                      --------------   -----  \n",
      " 0   YearStart                   167216 non-null  int64  \n",
      " 1   YearEnd                     167216 non-null  int64  \n",
      " 2   LocationAbbr                167216 non-null  object \n",
      " 3   LocationDesc                167216 non-null  object \n",
      " 4   Datasource                  167216 non-null  object \n",
      " 5   Class                       167216 non-null  object \n",
      " 6   Topic                       167216 non-null  object \n",
      " 7   Question                    167216 non-null  object \n",
      " 8   Data_Value_Unit             88872 non-null   float64\n",
      " 9   Data_Value_Type             167216 non-null  object \n",
      " 10  Data_Value                  141363 non-null  float64\n",
      " 11  Data_Value_Alt              141363 non-null  float64\n",
      " 12  Data_Value_Footnote_Symbol  25853 non-null   object \n",
      " 13  Data_Value_Footnote         25853 non-null   object \n",
      " 14  Low_Confidence_Limit        141363 non-null  float64\n",
      " 15  High_Confidence_Limit       141363 non-null  float64\n",
      " 16  Sample_Size                 141776 non-null  float64\n",
      " 17  Total                       8436 non-null    object \n",
      " 18  Age(years)                  22344 non-null   object \n",
      " 19  Education                   14896 non-null   object \n",
      " 20  Sex                         16872 non-null   object \n",
      " 21  Income                      26068 non-null   object \n",
      " 22  Race/Ethnicity              60508 non-null   object \n",
      " 23  GeoLocation                 164080 non-null  object \n",
      " 24  ClassID                     167216 non-null  object \n",
      " 25  TopicID                     167216 non-null  object \n",
      " 26  QuestionID                  167216 non-null  object \n",
      " 27  DataValueTypeID             167216 non-null  object \n",
      " 28  LocationID                  167216 non-null  int64  \n",
      " 29  StratificationCategory1     167216 non-null  object \n",
      " 30  Stratification1             167216 non-null  object \n",
      " 31  StratificationCategoryId1   167216 non-null  object \n",
      " 32  StratificationID1           167216 non-null  object \n",
      " 33  Age(months)                 3780 non-null    object \n",
      " 34  Grade                       14312 non-null   object \n",
      "dtypes: float64(6), int64(3), object(26)\n",
      "memory usage: 44.7+ MB\n"
     ]
    }
   ],
   "source": [
    "combined_dataframe.info()"
   ]
  },
  {
   "cell_type": "code",
   "execution_count": 11,
   "id": "6f4deb9a",
   "metadata": {},
   "outputs": [],
   "source": [
    "data_combined_cleaned= combined_dataframe.drop(\n",
    "    columns=[\n",
    "        'YearEnd', 'Class', \n",
    "        'Topic','Data_Value_Unit','Data_Value_Type' ,'Data_Value_Alt','Data_Value_Footnote_Symbol',\n",
    "        'Data_Value_Footnote','Low_Confidence_Limit',\n",
    "        'High_Confidence_Limit ','Sample_Size', 'Total', \n",
    "     'ClassID','TopicID','QuestionID',\n",
    "       'DataValueTypeID','LocationID', 'StratificationCategory1',\n",
    "       'Stratification1','StratificationCategoryId1', 'StratificationID1',\n",
    "    ]\n",
    ")"
   ]
  },
  {
   "cell_type": "code",
   "execution_count": 12,
   "id": "5ff809ce",
   "metadata": {},
   "outputs": [
    {
     "name": "stdout",
     "output_type": "stream",
     "text": [
      "<class 'pandas.core.frame.DataFrame'>\n",
      "RangeIndex: 167216 entries, 0 to 167215\n",
      "Data columns (total 14 columns):\n",
      " #   Column          Non-Null Count   Dtype  \n",
      "---  ------          --------------   -----  \n",
      " 0   YearStart       167216 non-null  int64  \n",
      " 1   LocationAbbr    167216 non-null  object \n",
      " 2   LocationDesc    167216 non-null  object \n",
      " 3   Datasource      167216 non-null  object \n",
      " 4   Question        167216 non-null  object \n",
      " 5   Data_Value      141363 non-null  float64\n",
      " 6   Age(years)      22344 non-null   object \n",
      " 7   Education       14896 non-null   object \n",
      " 8   Sex             16872 non-null   object \n",
      " 9   Income          26068 non-null   object \n",
      " 10  Race/Ethnicity  60508 non-null   object \n",
      " 11  GeoLocation     164080 non-null  object \n",
      " 12  Age(months)     3780 non-null    object \n",
      " 13  Grade           14312 non-null   object \n",
      "dtypes: float64(1), int64(1), object(12)\n",
      "memory usage: 17.9+ MB\n"
     ]
    }
   ],
   "source": [
    "data_combined_cleaned.info()"
   ]
  },
  {
   "cell_type": "code",
   "execution_count": 13,
   "id": "cedc42cf",
   "metadata": {},
   "outputs": [],
   "source": [
    "age=data_combined_cleaned[['Age(months)','Age(years)']]"
   ]
  },
  {
   "cell_type": "code",
   "execution_count": 14,
   "id": "39fcb561",
   "metadata": {},
   "outputs": [
    {
     "name": "stdout",
     "output_type": "stream",
     "text": [
      "<class 'pandas.core.frame.DataFrame'>\n",
      "RangeIndex: 167216 entries, 0 to 167215\n",
      "Data columns (total 2 columns):\n",
      " #   Column       Non-Null Count  Dtype \n",
      "---  ------       --------------  ----- \n",
      " 0   Age(months)  3780 non-null   object\n",
      " 1   Age(years)   22344 non-null  object\n",
      "dtypes: object(2)\n",
      "memory usage: 2.6+ MB\n"
     ]
    }
   ],
   "source": [
    "age.info()"
   ]
  },
  {
   "cell_type": "code",
   "execution_count": 15,
   "id": "653a4ada",
   "metadata": {},
   "outputs": [],
   "source": [
    "#combine Eduation and school Grade under  coloumn 'Education'.Drop  column 'Grade'\n",
    "data_combined_cleaned['Education']=data_combined_cleaned['Education'].fillna(data_combined_cleaned['Grade'])\n",
    "data_combined_cleaned .drop('Grade',axis=1,inplace=True)"
   ]
  },
  {
   "cell_type": "markdown",
   "id": "07a516aa",
   "metadata": {},
   "source": [
    "print(age)"
   ]
  },
  {
   "cell_type": "code",
   "execution_count": 16,
   "id": "fb266d0e",
   "metadata": {},
   "outputs": [
    {
     "name": "stdout",
     "output_type": "stream",
     "text": [
      "<class 'pandas.core.frame.DataFrame'>\n",
      "RangeIndex: 167216 entries, 0 to 167215\n",
      "Data columns (total 13 columns):\n",
      " #   Column          Non-Null Count   Dtype  \n",
      "---  ------          --------------   -----  \n",
      " 0   YearStart       167216 non-null  int64  \n",
      " 1   LocationAbbr    167216 non-null  object \n",
      " 2   LocationDesc    167216 non-null  object \n",
      " 3   Datasource      167216 non-null  object \n",
      " 4   Question        167216 non-null  object \n",
      " 5   Data_Value      141363 non-null  float64\n",
      " 6   Age(years)      22344 non-null   object \n",
      " 7   Education       29208 non-null   object \n",
      " 8   Sex             16872 non-null   object \n",
      " 9   Income          26068 non-null   object \n",
      " 10  Race/Ethnicity  60508 non-null   object \n",
      " 11  GeoLocation     164080 non-null  object \n",
      " 12  Age(months)     3780 non-null    object \n",
      "dtypes: float64(1), int64(1), object(11)\n",
      "memory usage: 16.6+ MB\n"
     ]
    }
   ],
   "source": [
    "data_combined_cleaned.info()"
   ]
  },
  {
   "cell_type": "code",
   "execution_count": 17,
   "id": "0ac63104",
   "metadata": {},
   "outputs": [
    {
     "name": "stdout",
     "output_type": "stream",
     "text": [
      "0         NaN\n",
      "1         NaN\n",
      "2         NaN\n",
      "3         NaN\n",
      "4         NaN\n",
      "         ... \n",
      "167211    NaN\n",
      "167212    NaN\n",
      "167213    NaN\n",
      "167214    NaN\n",
      "167215    NaN\n",
      "Name: Age(months), Length: 167216, dtype: object\n"
     ]
    }
   ],
   "source": [
    "print(data_combined_cleaned['Age(months)'],)"
   ]
  },
  {
   "cell_type": "code",
   "execution_count": 18,
   "id": "338d96b3",
   "metadata": {},
   "outputs": [
    {
     "name": "stdout",
     "output_type": "stream",
     "text": [
      "<bound method IndexOpsMixin.tolist of Index(['YearStart', 'LocationAbbr', 'LocationDesc', 'Datasource', 'Question',\n",
      "       'Data_Value', 'Age(years)', 'Education', 'Sex', 'Income',\n",
      "       'Race/Ethnicity', 'GeoLocation', 'Age(months)'],\n",
      "      dtype='object')>\n"
     ]
    }
   ],
   "source": [
    "print(data_combined_cleaned.columns.to_list)"
   ]
  },
  {
   "cell_type": "code",
   "execution_count": 19,
   "id": "ac00f447",
   "metadata": {},
   "outputs": [
    {
     "name": "stdout",
     "output_type": "stream",
     "text": [
      "         0   1\n",
      "0      NaN NaN\n",
      "1      NaN NaN\n",
      "2      NaN NaN\n",
      "3      NaN NaN\n",
      "4      NaN NaN\n",
      "...     ..  ..\n",
      "167211 NaN NaN\n",
      "167212 NaN NaN\n",
      "167213 NaN NaN\n",
      "167214 NaN NaN\n",
      "167215 NaN NaN\n",
      "\n",
      "[167216 rows x 2 columns]\n"
     ]
    }
   ],
   "source": [
    "age_split=data_combined_cleaned['Age(months)'].str.split('-',expand=True).astype(float)/12\n",
    "print(age_split)\n"
   ]
  },
  {
   "cell_type": "code",
   "execution_count": 20,
   "id": "b8ce51ef",
   "metadata": {},
   "outputs": [],
   "source": [
    "valid_rows=age_split.notnull().all(axis=1)"
   ]
  },
  {
   "cell_type": "code",
   "execution_count": 21,
   "id": "8e55ee70",
   "metadata": {},
   "outputs": [],
   "source": [
    "data_combined_cleaned['Age_years'] = None"
   ]
  },
  {
   "cell_type": "code",
   "execution_count": 22,
   "id": "2fb5837f",
   "metadata": {},
   "outputs": [],
   "source": [
    "data_combined_cleaned.loc[valid_rows,'Age_years'] = (\n",
    "    age_split.loc[valid_rows,0].round(1).astype(str)+ '-'+age_split.loc[valid_rows,1].round(1).astype(str)\n",
    ")"
   ]
  },
  {
   "cell_type": "code",
   "execution_count": 23,
   "id": "1adcf33d",
   "metadata": {},
   "outputs": [
    {
     "name": "stdout",
     "output_type": "stream",
     "text": [
      "<class 'pandas.core.frame.DataFrame'>\n",
      "RangeIndex: 167216 entries, 0 to 167215\n",
      "Data columns (total 14 columns):\n",
      " #   Column          Non-Null Count   Dtype  \n",
      "---  ------          --------------   -----  \n",
      " 0   YearStart       167216 non-null  int64  \n",
      " 1   LocationAbbr    167216 non-null  object \n",
      " 2   LocationDesc    167216 non-null  object \n",
      " 3   Datasource      167216 non-null  object \n",
      " 4   Question        167216 non-null  object \n",
      " 5   Data_Value      141363 non-null  float64\n",
      " 6   Age(years)      22344 non-null   object \n",
      " 7   Education       29208 non-null   object \n",
      " 8   Sex             16872 non-null   object \n",
      " 9   Income          26068 non-null   object \n",
      " 10  Race/Ethnicity  60508 non-null   object \n",
      " 11  GeoLocation     164080 non-null  object \n",
      " 12  Age(months)     3780 non-null    object \n",
      " 13  Age_years       3780 non-null    object \n",
      "dtypes: float64(1), int64(1), object(12)\n",
      "memory usage: 17.9+ MB\n"
     ]
    }
   ],
   "source": [
    "data_combined_cleaned.info()"
   ]
  },
  {
   "cell_type": "code",
   "execution_count": 24,
   "id": "cbf2fd16",
   "metadata": {},
   "outputs": [],
   "source": [
    "data_combined_cleaned['Age_years']=data_combined_cleaned['Age_years'].fillna(data_combined_cleaned['Age(years)'])\n"
   ]
  },
  {
   "cell_type": "code",
   "execution_count": 25,
   "id": "d0dbbfd9",
   "metadata": {},
   "outputs": [
    {
     "name": "stdout",
     "output_type": "stream",
     "text": [
      "<class 'pandas.core.frame.DataFrame'>\n",
      "RangeIndex: 167216 entries, 0 to 167215\n",
      "Data columns (total 14 columns):\n",
      " #   Column          Non-Null Count   Dtype  \n",
      "---  ------          --------------   -----  \n",
      " 0   YearStart       167216 non-null  int64  \n",
      " 1   LocationAbbr    167216 non-null  object \n",
      " 2   LocationDesc    167216 non-null  object \n",
      " 3   Datasource      167216 non-null  object \n",
      " 4   Question        167216 non-null  object \n",
      " 5   Data_Value      141363 non-null  float64\n",
      " 6   Age(years)      22344 non-null   object \n",
      " 7   Education       29208 non-null   object \n",
      " 8   Sex             16872 non-null   object \n",
      " 9   Income          26068 non-null   object \n",
      " 10  Race/Ethnicity  60508 non-null   object \n",
      " 11  GeoLocation     164080 non-null  object \n",
      " 12  Age(months)     3780 non-null    object \n",
      " 13  Age_years       26124 non-null   object \n",
      "dtypes: float64(1), int64(1), object(12)\n",
      "memory usage: 17.9+ MB\n"
     ]
    }
   ],
   "source": [
    "data_combined_cleaned.info()"
   ]
  },
  {
   "cell_type": "code",
   "execution_count": 26,
   "id": "64ab6b92",
   "metadata": {},
   "outputs": [],
   "source": [
    "data_renamed=data_combined_cleaned.rename(columns={'YearStart':'Year'})"
   ]
  },
  {
   "cell_type": "code",
   "execution_count": 27,
   "id": "8fd7258f",
   "metadata": {},
   "outputs": [
    {
     "data": {
      "text/plain": [
       "0    (64.845079957001, -147.722059036)\n",
       "1    (64.845079957001, -147.722059036)\n",
       "2    (64.845079957001, -147.722059036)\n",
       "3    (64.845079957001, -147.722059036)\n",
       "4    (64.845079957001, -147.722059036)\n",
       "5    (64.845079957001, -147.722059036)\n",
       "6    (64.845079957001, -147.722059036)\n",
       "7    (64.845079957001, -147.722059036)\n",
       "8    (64.845079957001, -147.722059036)\n",
       "9    (64.845079957001, -147.722059036)\n",
       "Name: GeoLocation, dtype: object"
      ]
     },
     "execution_count": 27,
     "metadata": {},
     "output_type": "execute_result"
    }
   ],
   "source": [
    "df1=data_renamed['GeoLocation']\n",
    "df1.head(10)"
   ]
  },
  {
   "cell_type": "code",
   "execution_count": 28,
   "id": "88093420",
   "metadata": {},
   "outputs": [
    {
     "name": "stdout",
     "output_type": "stream",
     "text": [
      "<class 'pandas.core.frame.DataFrame'>\n",
      "RangeIndex: 167216 entries, 0 to 167215\n",
      "Data columns (total 14 columns):\n",
      " #   Column          Non-Null Count   Dtype  \n",
      "---  ------          --------------   -----  \n",
      " 0   Year            167216 non-null  int64  \n",
      " 1   LocationAbbr    167216 non-null  object \n",
      " 2   LocationDesc    167216 non-null  object \n",
      " 3   Datasource      167216 non-null  object \n",
      " 4   Question        167216 non-null  object \n",
      " 5   Data_Value      141363 non-null  float64\n",
      " 6   Age(years)      22344 non-null   object \n",
      " 7   Education       29208 non-null   object \n",
      " 8   Sex             16872 non-null   object \n",
      " 9   Income          26068 non-null   object \n",
      " 10  Race/Ethnicity  60508 non-null   object \n",
      " 11  GeoLocation     164080 non-null  object \n",
      " 12  Age(months)     3780 non-null    object \n",
      " 13  Age_years       26124 non-null   object \n",
      "dtypes: float64(1), int64(1), object(12)\n",
      "memory usage: 17.9+ MB\n"
     ]
    }
   ],
   "source": [
    "data_renamed.info()"
   ]
  },
  {
   "cell_type": "code",
   "execution_count": 29,
   "id": "c342c17c",
   "metadata": {},
   "outputs": [],
   "source": [
    "data_renamed=data_renamed.drop(columns=['Age(months)','Age(years)'])"
   ]
  },
  {
   "cell_type": "code",
   "execution_count": 30,
   "id": "bf3b57d8",
   "metadata": {},
   "outputs": [
    {
     "name": "stdout",
     "output_type": "stream",
     "text": [
      "<class 'pandas.core.frame.DataFrame'>\n",
      "RangeIndex: 167216 entries, 0 to 167215\n",
      "Data columns (total 12 columns):\n",
      " #   Column          Non-Null Count   Dtype  \n",
      "---  ------          --------------   -----  \n",
      " 0   Year            167216 non-null  int64  \n",
      " 1   LocationAbbr    167216 non-null  object \n",
      " 2   LocationDesc    167216 non-null  object \n",
      " 3   Datasource      167216 non-null  object \n",
      " 4   Question        167216 non-null  object \n",
      " 5   Data_Value      141363 non-null  float64\n",
      " 6   Education       29208 non-null   object \n",
      " 7   Sex             16872 non-null   object \n",
      " 8   Income          26068 non-null   object \n",
      " 9   Race/Ethnicity  60508 non-null   object \n",
      " 10  GeoLocation     164080 non-null  object \n",
      " 11  Age_years       26124 non-null   object \n",
      "dtypes: float64(1), int64(1), object(10)\n",
      "memory usage: 15.3+ MB\n"
     ]
    }
   ],
   "source": [
    "data_renamed.info()"
   ]
  },
  {
   "cell_type": "code",
   "execution_count": null,
   "id": "cf124565",
   "metadata": {},
   "outputs": [],
   "source": []
  },
  {
   "cell_type": "markdown",
   "id": "f6cbeba2",
   "metadata": {},
   "source": []
  },
  {
   "cell_type": "code",
   "execution_count": 31,
   "id": "8c972c97",
   "metadata": {},
   "outputs": [],
   "source": [
    "data_renamed.to_excel('Obesity_Behavioral_Analysis.xlsx',sheet_name=\"Sheet1\")"
   ]
  },
  {
   "cell_type": "code",
   "execution_count": 32,
   "id": "c00aab0b",
   "metadata": {},
   "outputs": [
    {
     "data": {
      "text/plain": [
       "167216"
      ]
     },
     "execution_count": 32,
     "metadata": {},
     "output_type": "execute_result"
    }
   ],
   "source": [
    "#cnovert dtaframe to obesity databse\n",
    "\n",
    "con=sqlite3.connect(\"obesity_database.db\")\n",
    "data_combined_cleaned.to_sql('obesityus',con,if_exists='replace',index=False)"
   ]
  },
  {
   "cell_type": "code",
   "execution_count": 33,
   "id": "85f77269",
   "metadata": {},
   "outputs": [
    {
     "data": {
      "text/html": [
       "<div>\n",
       "<style scoped>\n",
       "    .dataframe tbody tr th:only-of-type {\n",
       "        vertical-align: middle;\n",
       "    }\n",
       "\n",
       "    .dataframe tbody tr th {\n",
       "        vertical-align: top;\n",
       "    }\n",
       "\n",
       "    .dataframe thead th {\n",
       "        text-align: right;\n",
       "    }\n",
       "</style>\n",
       "<table border=\"1\" class=\"dataframe\">\n",
       "  <thead>\n",
       "    <tr style=\"text-align: right;\">\n",
       "      <th></th>\n",
       "      <th>Question</th>\n",
       "      <th>Max(Data_Value)</th>\n",
       "    </tr>\n",
       "  </thead>\n",
       "  <tbody>\n",
       "    <tr>\n",
       "      <th>0</th>\n",
       "      <td>Percent of WIC children aged 2 to 4 years who ...</td>\n",
       "      <td>29.1</td>\n",
       "    </tr>\n",
       "    <tr>\n",
       "      <th>1</th>\n",
       "      <td>Percent of WIC children aged 2 to 4 years who ...</td>\n",
       "      <td>36.1</td>\n",
       "    </tr>\n",
       "    <tr>\n",
       "      <th>2</th>\n",
       "      <td>Percent of WIC children aged 3-23 months old w...</td>\n",
       "      <td>31.6</td>\n",
       "    </tr>\n",
       "    <tr>\n",
       "      <th>3</th>\n",
       "      <td>Percent of adults aged 18 years and older who ...</td>\n",
       "      <td>59.2</td>\n",
       "    </tr>\n",
       "    <tr>\n",
       "      <th>4</th>\n",
       "      <td>Percent of adults aged 18 years and older who ...</td>\n",
       "      <td>71.1</td>\n",
       "    </tr>\n",
       "    <tr>\n",
       "      <th>5</th>\n",
       "      <td>Percent of adults who achieve at least 150 min...</td>\n",
       "      <td>85.3</td>\n",
       "    </tr>\n",
       "    <tr>\n",
       "      <th>6</th>\n",
       "      <td>Percent of adults who achieve at least 150 min...</td>\n",
       "      <td>52.1</td>\n",
       "    </tr>\n",
       "    <tr>\n",
       "      <th>7</th>\n",
       "      <td>Percent of adults who achieve at least 300 min...</td>\n",
       "      <td>67.6</td>\n",
       "    </tr>\n",
       "    <tr>\n",
       "      <th>8</th>\n",
       "      <td>Percent of adults who engage in muscle-strengt...</td>\n",
       "      <td>67.1</td>\n",
       "    </tr>\n",
       "    <tr>\n",
       "      <th>9</th>\n",
       "      <td>Percent of adults who engage in no leisure-tim...</td>\n",
       "      <td>66.8</td>\n",
       "    </tr>\n",
       "  </tbody>\n",
       "</table>\n",
       "</div>"
      ],
      "text/plain": [
       "                                            Question  Max(Data_Value)\n",
       "0  Percent of WIC children aged 2 to 4 years who ...             29.1\n",
       "1  Percent of WIC children aged 2 to 4 years who ...             36.1\n",
       "2  Percent of WIC children aged 3-23 months old w...             31.6\n",
       "3  Percent of adults aged 18 years and older who ...             59.2\n",
       "4  Percent of adults aged 18 years and older who ...             71.1\n",
       "5  Percent of adults who achieve at least 150 min...             85.3\n",
       "6  Percent of adults who achieve at least 150 min...             52.1\n",
       "7  Percent of adults who achieve at least 300 min...             67.6\n",
       "8  Percent of adults who engage in muscle-strengt...             67.1\n",
       "9  Percent of adults who engage in no leisure-tim...             66.8"
      ]
     },
     "execution_count": 33,
     "metadata": {},
     "output_type": "execute_result"
    }
   ],
   "source": [
    "age_yearsquery=pd.read_sql('select question,Max(Data_Value) from obesityus  group by  Question limit 10',con)\n",
    "age_yearsquery"
   ]
  },
  {
   "cell_type": "code",
   "execution_count": 34,
   "id": "9591bf40",
   "metadata": {},
   "outputs": [
    {
     "data": {
      "text/plain": [
       "Text(0, 0.5, 'obesity Rate(%)')"
      ]
     },
     "execution_count": 34,
     "metadata": {},
     "output_type": "execute_result"
    },
    {
     "data": {
      "image/png": "[encoded data removed]",
      "text/plain": [
       "<Figure size 500x500 with 1 Axes>"
      ]
     },
     "metadata": {},
     "output_type": "display_data"
    }
   ],
   "source": [
    "highobesitystates=pd.read_sql('select YearStart as Year , LocationAbbr,max(Data_value) as obesityRate from obesityus  group by LocationDesc order by max(Data_value) asc limit 10',con)\n",
    "highobesitystates\n",
    "plt.figure(figsize=(5,5))\n",
    "plt.plot(highobesitystates['LocationAbbr'], highobesitystates['obesityRate'] , marker='o',linestyle='-')\n",
    "plt.title(\"High Obesity State\")\n",
    "plt.xlabel('states')\n",
    "plt.ylabel('obesity Rate(%)')"
   ]
  },
  {
   "cell_type": "code",
   "execution_count": 35,
   "id": "9da6ba5f",
   "metadata": {},
   "outputs": [
    {
     "data": {
      "text/html": [
       "<div>\n",
       "<style scoped>\n",
       "    .dataframe tbody tr th:only-of-type {\n",
       "        vertical-align: middle;\n",
       "    }\n",
       "\n",
       "    .dataframe tbody tr th {\n",
       "        vertical-align: top;\n",
       "    }\n",
       "\n",
       "    .dataframe thead th {\n",
       "        text-align: right;\n",
       "    }\n",
       "</style>\n",
       "<table border=\"1\" class=\"dataframe\">\n",
       "  <thead>\n",
       "    <tr style=\"text-align: right;\">\n",
       "      <th></th>\n",
       "      <th>LocationAbbr</th>\n",
       "      <th>obesitycount</th>\n",
       "      <th>Question</th>\n",
       "    </tr>\n",
       "  </thead>\n",
       "  <tbody>\n",
       "    <tr>\n",
       "      <th>0</th>\n",
       "      <td>TX</td>\n",
       "      <td>343</td>\n",
       "      <td>Percent of adults who engage in no leisure-tim...</td>\n",
       "    </tr>\n",
       "  </tbody>\n",
       "</table>\n",
       "</div>"
      ],
      "text/plain": [
       "  LocationAbbr  obesitycount  \\\n",
       "0           TX           343   \n",
       "\n",
       "                                            Question  \n",
       "0  Percent of adults who engage in no leisure-tim...  "
      ]
     },
     "execution_count": 35,
     "metadata": {},
     "output_type": "execute_result"
    }
   ],
   "source": [
    "#how many people they dont have time to physical activity in Texas\n",
    "highobesitystates1=pd.read_sql('select LocationAbbr,count(Data_value) as obesitycount ,Question from obesityus where LocationAbbr=\"TX\"  and Question like \"%Percent of adults who engage in no leisure-time%\"',con)\n",
    "highobesitystates1"
   ]
  },
  {
   "cell_type": "code",
   "execution_count": 36,
   "id": "90e792e4",
   "metadata": {},
   "outputs": [
    {
     "name": "stdout",
     "output_type": "stream",
     "text": [
      "value counts for 'Sex':\n"
     ]
    },
    {
     "data": {
      "text/plain": [
       "Sex\n",
       "Female    8436\n",
       "Male      8436\n",
       "Name: count, dtype: int64"
      ]
     },
     "metadata": {},
     "output_type": "display_data"
    },
    {
     "name": "stdout",
     "output_type": "stream",
     "text": [
      "value counts for 'Income':\n"
     ]
    },
    {
     "data": {
      "text/plain": [
       "Income\n",
       "$15,000 - $24,999     3724\n",
       "$50,000 - $74,999     3724\n",
       "$75,000 or greater    3724\n",
       "Less than $15,000     3724\n",
       "$25,000 - $34,999     3724\n",
       "Data not reported     3724\n",
       "$35,000 - $49,999     3724\n",
       "Name: count, dtype: int64"
      ]
     },
     "metadata": {},
     "output_type": "display_data"
    },
    {
     "name": "stdout",
     "output_type": "stream",
     "text": [
      "value counts for 'Education':\n"
     ]
    },
    {
     "data": {
      "text/plain": [
       "Education\n",
       "Less than high school               3724\n",
       "Some college or technical school    3724\n",
       "High school graduate                3724\n",
       "College graduate                    3724\n",
       "9th                                 3578\n",
       "10th                                3578\n",
       "11th                                3578\n",
       "12th                                3578\n",
       "Name: count, dtype: int64"
      ]
     },
     "metadata": {},
     "output_type": "display_data"
    },
    {
     "name": "stdout",
     "output_type": "stream",
     "text": [
      "value counts for 'Race/Ethnicity':\n"
     ]
    },
    {
     "data": {
      "text/plain": [
       "Race/Ethnicity\n",
       "Non-Hispanic White               8436\n",
       "Hispanic                         8436\n",
       "Non-Hispanic Black               8436\n",
       "American Indian/Alaska Native    8436\n",
       "2 or more races                  7302\n",
       "Asian                            7302\n",
       "Hawaiian/Pacific Islander        7302\n",
       "Other                            3724\n",
       "Asian/Pacific Islander           1134\n",
       "Name: count, dtype: int64"
      ]
     },
     "metadata": {},
     "output_type": "display_data"
    }
   ],
   "source": [
    "# Examaine the distribution of Unique Catergories\n",
    "categorical_cols=data_renamed[[\"Sex\",\"Income\",\"Education\",\"Race/Ethnicity\"]]\n",
    "\n",
    "for col in categorical_cols:\n",
    "    print(f\"value counts for '{col}':\")\n",
    "    display(data_renamed[col].value_counts())"
   ]
  },
  {
   "cell_type": "code",
   "execution_count": 37,
   "id": "e2be7fe3",
   "metadata": {},
   "outputs": [
    {
     "data": {
      "image/png": "[encoded data removed]",
      "text/plain": [
       "<Figure size 640x480 with 1 Axes>"
      ]
     },
     "metadata": {},
     "output_type": "display_data"
    },
    {
     "data": {
      "image/png": "[encoded data removed]",
      "text/plain": [
       "<Figure size 640x480 with 1 Axes>"
      ]
     },
     "metadata": {},
     "output_type": "display_data"
    },
    {
     "data": {
      "image/png": "[encoded data removed]",
      "text/plain": [
       "<Figure size 640x480 with 1 Axes>"
      ]
     },
     "metadata": {},
     "output_type": "display_data"
    }
   ],
   "source": [
    "#plot based on demographic factors\n",
    "\n",
    "\n",
    "predictors=data_renamed[[\"Sex\",\"Income\",\"Education\"]]\n",
    "for i,predictor in enumerate(predictors.columns):\n",
    "    plt.figure(i)\n",
    "    sns.barplot(data=data_renamed, x=predictor,y=data_renamed[\"Data_Value\"])\n",
    "    plt.show()"
   ]
  },
  {
   "cell_type": "code",
   "execution_count": 38,
   "id": "0f1cc786",
   "metadata": {},
   "outputs": [
    {
     "data": {
      "image/png": "[encoded data removed]",
      "text/plain": [
       "<Figure size 640x480 with 1 Axes>"
      ]
     },
     "metadata": {},
     "output_type": "display_data"
    },
    {
     "data": {
      "image/png": "[encoded data removed]",
      "text/plain": [
       "<Figure size 640x480 with 1 Axes>"
      ]
     },
     "metadata": {},
     "output_type": "display_data"
    },
    {
     "data": {
      "image/png": "[encoded data removed]",
      "text/plain": [
       "<Figure size 640x480 with 1 Axes>"
      ]
     },
     "metadata": {},
     "output_type": "display_data"
    }
   ],
   "source": [
    "\n",
    "predictors=data_renamed[[\"Sex\",\"Income\",\"Education\"]]\n",
    "for i,predictor in enumerate(predictors.columns):\n",
    "    plt.figure(i)\n",
    "    sns.barplot(data=data_renamed, x=predictor,y=data_renamed[\"Data_Value\"])\n",
    "    plt.show()"
   ]
  },
  {
   "cell_type": "code",
   "execution_count": 39,
   "id": "2e8b9a80",
   "metadata": {},
   "outputs": [
    {
     "data": {
      "text/plain": [
       "Year               0.000000\n",
       "LocationAbbr       0.000000\n",
       "LocationDesc       0.000000\n",
       "Datasource         0.000000\n",
       "Question           0.000000\n",
       "Data_Value        15.460841\n",
       "Education         82.532772\n",
       "Sex               89.910056\n",
       "Income            84.410583\n",
       "Race/Ethnicity    63.814468\n",
       "GeoLocation        1.875419\n",
       "Age_years         84.377093\n",
       "dtype: float64"
      ]
     },
     "execution_count": 39,
     "metadata": {},
     "output_type": "execute_result"
    }
   ],
   "source": [
    "data_renamed.isnull().sum()\n",
    "data_renamed.isnull().mean()*100"
   ]
  }
 ],
 "metadata": {
  "kernelspec": {
   "display_name": "Python 3",
   "language": "python",
   "name": "python3"
  },
  "language_info": {
   "codemirror_mode": {
    "name": "ipython",
    "version": 3
   },
   "file_extension": ".py",
   "mimetype": "text/x-python",
   "name": "python",
   "nbconvert_exporter": "python",
   "pygments_lexer": "ipython3",
   "version": "3.12.7"
  }
 },
 "nbformat": 4,
 "nbformat_minor": 5
}
